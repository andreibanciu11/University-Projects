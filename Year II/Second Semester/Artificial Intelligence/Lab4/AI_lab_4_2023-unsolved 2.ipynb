{
 "cells": [
  {
   "cell_type": "markdown",
   "id": "b246b6ac",
   "metadata": {},
   "source": [
    "## A.I. Assignment 4\n",
    "\n",
    "## Learning Goals\n",
    "\n",
    "By the end of this lab, you should be able to:\n",
    "* Get familiar with tensors in pytorch\n",
    "* Get familiar with the activation functions for ANN \n",
    "* Create a simple perceptron model with pytorch\n",
    "\n"
   ]
  },
  {
   "cell_type": "markdown",
   "id": "8247d8bb",
   "metadata": {},
   "source": [
    "## Common activation functions for ANN:\n",
    "\n",
    "##### Sigmoid:\n",
    "\n",
    "The sigmoid function is a popular choice for activation functions in neural networks. It has an $S-shaped$ curve:\n",
    "$$f(x) = \\frac{1}{1+e^{-x}}.$$\n",
    "\n",
    "It has a number of appealing qualities:\n",
    "\n",
    "1. *Nonlinearity*: Because the sigmoid function is nonlinear, it enables the neural network to simulate nonlinear interactions between inputs and outputs. A neural network would simply be a linear model without a nonlinear activation function like sigmoid, which would significantly restrict its capacity to describe complex relationships.\n",
    "\n",
    "1. *Smoothness*: As the sigmoid function is differentiable and smooth, its derivative exist at every point. This is significant because it makes it possible for neural network training techniques based on gradients (such as backpropagation) to perform well.\n",
    "\n",
    "1. *Boundedness*: The sigmoid function is bounded between 0 and 1, it means  its outputs can be interpreted as probabilities.  It is most useful in applications like binary classification, where the goal is to predict whether an input belongs to one of two classes.\n",
    "\n",
    "1. *Monotonicity*: The sigmoid function is monotonic, which means that its outputs are always increasing or always decreasing with respect to its inputs. This makes it easy to interpret the effect of changes in input variables on the output of the network.\n",
    "\n",
    "##### ReLU (Rectified Linear Unit):\n",
    "\n",
    "The ReLU function is defined as $$f(x) = max(0, x).$$\n",
    "\n",
    "It is a widely used activation function in deep learning due to its simplicity and effectiveness.\n",
    "\n",
    "##### Tanh (Hyperbolic Tangent):\n",
    "\n",
    "The $\\tanh$ function is similar to the sigmoid function but produces outputs in the interval $[-1, 1]$:  \n",
    "$$f(x) = \\frac{e^{x}-e^{-x}}{e^{x}+e^{-x}}.$$\n",
    "\n",
    "##### Softmax:\n",
    "\n",
    "The softmax function is commonly used in the output layer of a neural network for multi-class classification problems. It normalizes the output into a probability distribution over the classes.\n",
    "\n",
    "Given a vector $\\vec{z}$ of $n$ real numbers, the softmax function calculates a vector $\\vec{s}$ of $n$ real numbers with the components:\n",
    "$$s_j = \\frac{e^{z_j}}{\\sum_{k=1}^{n} {e^{z_k}}}.$$\n",
    "\n",
    "\n",
    "##### Leaky ReLU:\n",
    "\n",
    "The Leaky ReLU is a variation of the ReLU function that introduces a small non-zero gradient for negative inputs. It is defined as \n",
    "$$f(x) = max(0.01 \\cdot x, x).$$\n",
    "\n",
    "##### ELU (Exponential Linear Unit):\n",
    "\n",
    "The ELU function is another variation of the ReLU function that introduces a small negative saturation value for negative inputs. It is defined as \n",
    "\n",
    "$$ f(x) = \\biggl\\{ \\begin{matrix} x, & for & x > 0 \\\\\n",
    "                      \\alpha \\cdot (e^{x} - 1), & for & x \\leq 0 \\end{matrix}$$\n",
    "where $\\alpha$ is a hyperparameter.\n",
    "\n",
    "##### Swish:\n",
    "\n",
    "The Swish function is a recent activation function that is a smooth approximation of the ReLU function. It is defined as f(x) = x * sigmoid(x)."
   ]
  },
  {
   "cell_type": "code",
   "execution_count": 2,
   "id": "68931328",
   "metadata": {},
   "outputs": [
    {
     "data": {
      "text/plain": [
       "False"
      ]
     },
     "execution_count": 2,
     "metadata": {},
     "output_type": "execute_result"
    }
   ],
   "source": [
    "import torch\n",
    "torch.cuda.is_available()"
   ]
  },
  {
   "cell_type": "markdown",
   "id": "93017ce5",
   "metadata": {},
   "source": [
    "create a tensor with requires_grad=True to tell PyTorch to track gradients for this tensor:"
   ]
  },
  {
   "cell_type": "code",
   "execution_count": 3,
   "id": "a14b6a39",
   "metadata": {},
   "outputs": [
    {
     "name": "stdout",
     "output_type": "stream",
     "text": [
      "tensor([2.], requires_grad=True)\n"
     ]
    }
   ],
   "source": [
    "x = torch.tensor([2.0], requires_grad=True)\n",
    "print(x)"
   ]
  },
  {
   "cell_type": "markdown",
   "id": "56340210",
   "metadata": {},
   "source": [
    "You can perform any operations on this tensor as usual:"
   ]
  },
  {
   "cell_type": "code",
   "execution_count": 4,
   "id": "99cb5a71",
   "metadata": {},
   "outputs": [
    {
     "name": "stdout",
     "output_type": "stream",
     "text": [
      "tensor([9.], grad_fn=<AddBackward0>)\n"
     ]
    }
   ],
   "source": [
    "y = x ** 2 + 2 * x + 1\n",
    "print(y)"
   ]
  },
  {
   "cell_type": "markdown",
   "id": "af8a18dc",
   "metadata": {},
   "source": [
    "To compute the gradients of y with respect to x, you need to call backward() on y:"
   ]
  },
  {
   "cell_type": "code",
   "execution_count": 5,
   "id": "8c244acf",
   "metadata": {},
   "outputs": [],
   "source": [
    "y.backward()"
   ]
  },
  {
   "cell_type": "code",
   "execution_count": 6,
   "id": "0e9b7e33",
   "metadata": {},
   "outputs": [
    {
     "data": {
      "text/plain": [
       "tensor([6.])"
      ]
     },
     "execution_count": 6,
     "metadata": {},
     "output_type": "execute_result"
    }
   ],
   "source": [
    "x.grad"
   ]
  },
  {
   "cell_type": "code",
   "execution_count": 7,
   "id": "87ce525b",
   "metadata": {},
   "outputs": [
    {
     "name": "stdout",
     "output_type": "stream",
     "text": [
      "tensor([1., 1., 1.])\n"
     ]
    }
   ],
   "source": [
    "import torch\n",
    "\n",
    "# Create a tensor with requires_grad=True\n",
    "x = torch.tensor([1., 2., 3.], requires_grad=True)\n",
    "\n",
    "# Compute a function of x\n",
    "y = x.sum()\n",
    "\n",
    "# Compute gradients of y with respect to x\n",
    "y.backward()\n",
    "\n",
    "# Print gradients of x\n",
    "print(x.grad)\n"
   ]
  },
  {
   "cell_type": "markdown",
   "id": "30804b8c",
   "metadata": {},
   "source": [
    "Exercise 1.\n",
    "\n",
    "Compute the gradient for the sigmoid activation function in 2 points using pytorch and check it with the known explicit formula "
   ]
  },
  {
   "cell_type": "code",
   "execution_count": 8,
   "id": "2dc94902",
   "metadata": {},
   "outputs": [
    {
     "name": "stdout",
     "output_type": "stream",
     "text": [
      "Gradient x1: 0.1966119259595871\n",
      "Gradient x2: 0.10499362647533417\n",
      "Expected x1: 0.19661193324148185\n",
      "Expected x2: 0.10499358540350662\n"
     ]
    }
   ],
   "source": [
    "import torch\n",
    "from torch.autograd import grad\n",
    "import math\n",
    "\n",
    "x1 = torch.tensor(1.0, requires_grad=True)\n",
    "x2 = torch.tensor(2.0, requires_grad=True)\n",
    "\n",
    "y1 = torch.sigmoid(x1)\n",
    "y2 = torch.sigmoid(x2)\n",
    "\n",
    "grad_y1 = grad(y1, x1, create_graph=True)[0]\n",
    "grad_y2 = grad(y2, x2, create_graph=True)[0]\n",
    "\n",
    "print(\"Gradient x1:\", grad_y1.item())\n",
    "print(\"Gradient x2:\", grad_y2.item())\n",
    "\n",
    "def sigmoid(x):\n",
    "    return 1 / (1 + math.exp(-x))\n",
    "\n",
    "grad_y1_expected = sigmoid(x1)*(1 - sigmoid(x1))\n",
    "grad_y2_expected = sigmoid(x2)*(1 - sigmoid(x2))\n",
    "\n",
    "print(\"Expected x1:\", grad_y1_expected)\n",
    "print(\"Expected x2:\", grad_y2_expected)"
   ]
  },
  {
   "cell_type": "markdown",
   "id": "7e77a45c",
   "metadata": {},
   "source": [
    "Exercise 2.\n",
    "\n",
    "Compute the gradient for the linear activation function in 2 points using pytorch and check it with the known explicit formula"
   ]
  },
  {
   "cell_type": "code",
   "execution_count": 9,
   "id": "7054039e",
   "metadata": {},
   "outputs": [
    {
     "name": "stdout",
     "output_type": "stream",
     "text": [
      "Gradient x1: 1.0\n",
      "Gradient x2: 1.0\n",
      "Expected x1: 1.0\n",
      "Expected x2: 1.0\n"
     ]
    }
   ],
   "source": [
    "x1 = torch.tensor(1.0, requires_grad=True)\n",
    "x2 = torch.tensor(2.0, requires_grad=True)\n",
    "\n",
    "y1 = x1\n",
    "y2 = x2\n",
    "\n",
    "grad_y1 = grad(y1, x1, create_graph=True)[0]\n",
    "grad_y2 = grad(y2, x2, create_graph=True)[0]\n",
    "\n",
    "print(\"Gradient x1:\", grad_y1.item())\n",
    "print(\"Gradient x2:\", grad_y2.item())\n",
    "\n",
    "grad_y1_expected = 1.0\n",
    "grad_y2_expected = 1.0\n",
    "\n",
    "print(\"Expected x1:\", grad_y1_expected)\n",
    "print(\"Expected x2:\", grad_y2_expected)"
   ]
  },
  {
   "cell_type": "markdown",
   "id": "dab117e3",
   "metadata": {},
   "source": [
    "Execise 3.\n",
    "\n",
    "Compute the gradient for the relu activation function in 2 points using pytorch and check it with the known explicit formula."
   ]
  },
  {
   "cell_type": "code",
   "execution_count": 10,
   "id": "1f69f4c5",
   "metadata": {},
   "outputs": [
    {
     "name": "stdout",
     "output_type": "stream",
     "text": [
      "Gradient x1: 1.0\n",
      "Gradient x2: 0.0\n",
      "Expected x1: 1.0\n",
      "Expected x2: 0.0\n"
     ]
    }
   ],
   "source": [
    "x1 = torch.tensor(1.0, requires_grad=True)\n",
    "x2 = torch.tensor(-2.0, requires_grad=True)\n",
    "\n",
    "y1 = torch.relu(x1)\n",
    "y2 = torch.relu(x2)\n",
    "\n",
    "grad_y1 = grad(y1, x1, create_graph=True)[0]\n",
    "grad_y2 = grad(y2, x2, create_graph=True)[0]\n",
    "\n",
    "print(\"Gradient x1:\", grad_y1.item())\n",
    "print(\"Gradient x2:\", grad_y2.item())\n",
    "\n",
    "grad_y1_expected = 1.0\n",
    "grad_y2_expected = 0.0\n",
    "\n",
    "print(\"Expected x1:\", grad_y1_expected)\n",
    "print(\"Expected x2:\", grad_y2_expected)"
   ]
  },
  {
   "cell_type": "markdown",
   "id": "ef985f68",
   "metadata": {},
   "source": [
    "Exercise 4. \n",
    "\n",
    "Write in python a function to plot the sigmoid activation function and its gradient using matplotlib"
   ]
  },
  {
   "cell_type": "code",
   "execution_count": 11,
   "id": "6c645aaf",
   "metadata": {},
   "outputs": [
    {
     "data": {
      "image/png": "[encoded data removed]",
      "text/plain": [
       "<Figure size 800x600 with 1 Axes>"
      ]
     },
     "metadata": {},
     "output_type": "display_data"
    }
   ],
   "source": [
    "import numpy as np\n",
    "import matplotlib.pyplot as plt\n",
    "\n",
    "def sigmoid(x):\n",
    "    return 1 / (1 + np.exp(-x))\n",
    "\n",
    "def sigmoid_gradient(x):\n",
    "    s = sigmoid(x)\n",
    "    return s * (1 - s)\n",
    "\n",
    "x = np.linspace(-10, 10, 1000)\n",
    "y = sigmoid(x)\n",
    "dy = sigmoid_gradient(x)\n",
    "\n",
    "fig, ax = plt.subplots(figsize=(8, 6))\n",
    "\n",
    "ax.plot(x, y, label='sigmoid')\n",
    "ax.plot(x, dy, label='sigmoid gradient')\n",
    "ax.axhline(0, color='black', lw=0.5)\n",
    "ax.axvline(0, color='black', lw=0.5)\n",
    "ax.legend(loc='best')\n",
    "ax.set_xlabel('x')\n",
    "ax.set_ylabel('y')\n",
    "ax.set_title('function and gradient')\n",
    "\n",
    "plt.show()\n"
   ]
  },
  {
   "cell_type": "markdown",
   "id": "51202a51",
   "metadata": {},
   "source": [
    "Exercise 5. \n",
    "\n",
    "Write in python a function to plot the ReLU activation function and its gradient using matplotlib."
   ]
  },
  {
   "cell_type": "code",
   "execution_count": 12,
   "id": "99e49c47",
   "metadata": {},
   "outputs": [
    {
     "data": {
      "image/png": "[encoded data removed]",
      "text/plain": [
       "<Figure size 800x600 with 1 Axes>"
      ]
     },
     "metadata": {},
     "output_type": "display_data"
    }
   ],
   "source": [
    "def relu(x):\n",
    "    return np.maximum(0, x)\n",
    "\n",
    "def relu_gradient(x):\n",
    "    return np.where(x > 0, 1, 0)\n",
    "\n",
    "x = np.linspace(-10, 10, 1000)\n",
    "y = relu(x)\n",
    "dy = relu_gradient(x)\n",
    "\n",
    "fig, ax = plt.subplots(figsize=(8, 6))\n",
    "\n",
    "ax.plot(x, y, label='ReLU')\n",
    "ax.plot(x, dy, label='ReLU gradient')\n",
    "ax.axhline(0, color='black', lw=0.5)\n",
    "ax.axvline(0, color='black', lw=0.5)\n",
    "ax.legend(loc='best')\n",
    "ax.set_xlabel('x')\n",
    "ax.set_ylabel('y')\n",
    "ax.set_title('function and gradient')\n",
    "\n",
    "plt.show()\n",
    "    "
   ]
  },
  {
   "cell_type": "markdown",
   "id": "c81684ff",
   "metadata": {},
   "source": [
    "Exercise 6. \n",
    "\n",
    "Write in python a function to plot the tanh activation function and its gradient using matplotlib."
   ]
  },
  {
   "cell_type": "code",
   "execution_count": 13,
   "id": "559d421d",
   "metadata": {},
   "outputs": [
    {
     "data": {
      "image/png": "[encoded data removed]",
      "text/plain": [
       "<Figure size 800x600 with 1 Axes>"
      ]
     },
     "metadata": {},
     "output_type": "display_data"
    }
   ],
   "source": [
    "def tanh(x):\n",
    "    return np.tanh(x)\n",
    "\n",
    "def tanh_gradient(x):\n",
    "    return 1 - np.tanh(x)**2\n",
    "\n",
    "def plot_tanh():\n",
    "    x = np.linspace(-10, 10, 1000)\n",
    "    y = tanh(x)\n",
    "    dy = tanh_gradient(x)\n",
    "\n",
    "    fig, ax = plt.subplots(figsize=(8, 6))\n",
    "\n",
    "    ax.plot(x, y, label='tanh')\n",
    "    ax.plot(x, dy, label='tanh Gradient')\n",
    "    ax.axhline(0, color='black', lw=0.5)\n",
    "    ax.axvline(0, color='black', lw=0.5)\n",
    "    ax.legend(loc='best')\n",
    "    ax.set_xlabel('x')\n",
    "    ax.set_ylabel('y')\n",
    "    ax.set_title('function and gradient')\n",
    "\n",
    "    plt.show()\n",
    "    \n",
    "plot_tanh()"
   ]
  },
  {
   "cell_type": "markdown",
   "id": "6f382daf",
   "metadata": {},
   "source": [
    "Exercise 7. \n",
    "\n",
    "Write in python a function to plot the softmax activation function."
   ]
  },
  {
   "cell_type": "code",
   "execution_count": null,
   "id": "0dd236a3",
   "metadata": {},
   "outputs": [],
   "source": []
  },
  {
   "cell_type": "markdown",
   "id": "8740a0a8",
   "metadata": {},
   "source": [
    "Exercise 8. \n",
    "\n",
    "Write in python a function to plot the leaky ReLU activation function and its gradient using matplotlib."
   ]
  },
  {
   "cell_type": "code",
   "execution_count": 14,
   "id": "7b455646",
   "metadata": {},
   "outputs": [
    {
     "data": {
      "image/png": "[encoded data removed]",
      "text/plain": [
       "<Figure size 800x600 with 1 Axes>"
      ]
     },
     "metadata": {},
     "output_type": "display_data"
    }
   ],
   "source": [
    "def leaky_relu(x, alpha=0.1):\n",
    "    return np.where(x >= 0, x, alpha * x)\n",
    "\n",
    "def leaky_relu_gradient(x, alpha=0.1):\n",
    "    return np.where(x >= 0, 1, alpha)\n",
    "\n",
    "def plot_leaky_relu():\n",
    "    x = np.linspace(-10, 10, 1000)\n",
    "    y = leaky_relu(x)\n",
    "    dy = leaky_relu_gradient(x)\n",
    "\n",
    "    fig, ax = plt.subplots(figsize=(8, 6))\n",
    "\n",
    "    ax.plot(x, y, label='Leaky ReLU')\n",
    "    ax.plot(x, dy, label='Leaky ReLU gradient')\n",
    "    ax.axhline(0, color='black', lw=0.5)\n",
    "    ax.axvline(0, color='black', lw=0.5)\n",
    "    ax.legend(loc='best')\n",
    "    ax.set_xlabel('x')\n",
    "    ax.set_ylabel('y')\n",
    "    ax.set_title('function and gradient')\n",
    "\n",
    "    plt.show()\n",
    "    \n",
    "plot_leaky_relu()"
   ]
  },
  {
   "cell_type": "markdown",
   "id": "4e33119c",
   "metadata": {},
   "source": [
    "## Perceptron\n",
    "\n",
    "We define a class called *Perceptron* that inherits from *torch.nn.Module*. \n",
    "\n",
    "In the constructor, we define a single fully-connected linear layer with $input_dim$ inputs and $output_dim$ outputs, and a $sigmoid$ activation function. In the forward method, we apply the linear transformation to the input $x$, and then apply the sigmoid activation function to the output.\n",
    "\n"
   ]
  },
  {
   "cell_type": "code",
   "execution_count": 15,
   "id": "aa86d7c0",
   "metadata": {},
   "outputs": [],
   "source": [
    "import torch\n",
    "import torch.nn as nn\n",
    "\n",
    "input_size = 2\n",
    "output_size = 1\n",
    "\n",
    "class Perceptron(torch.nn.Module):\n",
    "    def __init__(self, input_dim, output_dim):\n",
    "        super(Perceptron, self).__init__()\n",
    "        self.linear = torch.nn.Linear(input_dim, output_dim)\n",
    "        self.activation = torch.nn.Sigmoid()\n",
    "        \n",
    "    def forward(self, x):\n",
    "        x = self.linear(x)\n",
    "        x = self.activation(x)\n",
    "        return x\n"
   ]
  },
  {
   "cell_type": "markdown",
   "id": "a178820e",
   "metadata": {},
   "source": [
    " We create an instance of this model and use it to make predictions like this:"
   ]
  },
  {
   "cell_type": "code",
   "execution_count": 16,
   "id": "78513e21",
   "metadata": {},
   "outputs": [
    {
     "name": "stdout",
     "output_type": "stream",
     "text": [
      "tensor([0.3759], grad_fn=<SigmoidBackward0>)\n"
     ]
    }
   ],
   "source": [
    "perceptron = Perceptron(input_size, output_size)\n",
    "x = torch.tensor([0.5, 0.2])\n",
    "y = perceptron(x)\n",
    "print(y)\n"
   ]
  },
  {
   "cell_type": "code",
   "execution_count": 17,
   "id": "54070b51",
   "metadata": {},
   "outputs": [
    {
     "name": "stdout",
     "output_type": "stream",
     "text": [
      "Epoch [100/1000], Loss: 0.3082\n",
      "Epoch [200/1000], Loss: 0.2746\n",
      "Epoch [300/1000], Loss: 0.2603\n",
      "Epoch [400/1000], Loss: 0.2520\n",
      "Epoch [500/1000], Loss: 0.2466\n",
      "Epoch [600/1000], Loss: 0.2426\n",
      "Epoch [700/1000], Loss: 0.2397\n",
      "Epoch [800/1000], Loss: 0.2373\n",
      "Epoch [900/1000], Loss: 0.2354\n",
      "Epoch [1000/1000], Loss: 0.2339\n"
     ]
    }
   ],
   "source": [
    "\n",
    "# Define the loss function and optimizer\n",
    "criterion = nn.BCELoss()  # Binary cross-entropy loss\n",
    "optimizer = torch.optim.SGD(perceptron.parameters(), lr=0.1)  # Stochastic gradient descent optimizer\n",
    "\n",
    "# Generate some random input data and labels\n",
    "input_data = torch.randn((10, input_size))\n",
    "labels = torch.randint(0, 2, (10, output_size)).float()\n",
    "\n",
    "# Train the model\n",
    "num_epochs = 1000\n",
    "for epoch in range(num_epochs):\n",
    "    # Forward pass\n",
    "    outputs = perceptron(input_data)\n",
    "    loss = criterion(outputs, labels)\n",
    "\n",
    "    # Backward pass and optimization\n",
    "    optimizer.zero_grad()\n",
    "    loss.backward()\n",
    "    optimizer.step()\n",
    "\n",
    "    # Print the loss every 100 epochs\n",
    "    if (epoch + 1) % 100 == 0:\n",
    "        print(f'Epoch [{epoch+1}/{num_epochs}], Loss: {loss.item():.4f}')"
   ]
  },
  {
   "cell_type": "markdown",
   "id": "75b840f4",
   "metadata": {},
   "source": [
    "Exercise 9: \n",
    "\n",
    "Implement a binary classification model using the Perceptron class in PyTorch for the logic OR. \n",
    "\n",
    "Your task is to create a Perceptron instance and train it using a proper  dataset and the binary cross-entropy loss with stochastic gradient descent optimizer. \n",
    "\n",
    "Here are the steps you can follow:\n",
    "\n",
    "Define a Perceptron class that inherits from torch.nn.Module and implements a binary classification model.\n",
    "\n",
    "Define a binary cross-entropy loss function using the torch.nn.BCEWithLogitsLoss module.\n",
    "\n",
    "Define a stochastic gradient descent optimizer using the torch.optim.SGD module.\n",
    "\n",
    "Train the Perceptron model on the training set using the binary cross-entropy loss and stochastic gradient descent optimizer.\n",
    "\n",
    "Evaluate the trained model compute the accuracy.\n"
   ]
  },
  {
   "cell_type": "code",
   "execution_count": 1,
   "id": "dc3c5d3e",
   "metadata": {},
   "outputs": [
    {
     "name": "stdout",
     "output_type": "stream",
     "text": [
      "Epoch [100/10000], Loss: 0.2617\n",
      "Epoch [200/10000], Loss: 0.1798\n",
      "Epoch [300/10000], Loss: 0.1354\n",
      "Epoch [400/10000], Loss: 0.1079\n",
      "Epoch [500/10000], Loss: 0.0893\n",
      "Epoch [600/10000], Loss: 0.0759\n",
      "Epoch [700/10000], Loss: 0.0659\n",
      "Epoch [800/10000], Loss: 0.0581\n",
      "Epoch [900/10000], Loss: 0.0520\n",
      "Epoch [1000/10000], Loss: 0.0469\n",
      "Epoch [1100/10000], Loss: 0.0428\n",
      "Epoch [1200/10000], Loss: 0.0393\n",
      "Epoch [1300/10000], Loss: 0.0363\n",
      "Epoch [1400/10000], Loss: 0.0337\n",
      "Epoch [1500/10000], Loss: 0.0315\n",
      "Epoch [1600/10000], Loss: 0.0295\n",
      "Epoch [1700/10000], Loss: 0.0278\n",
      "Epoch [1800/10000], Loss: 0.0262\n",
      "Epoch [1900/10000], Loss: 0.0248\n",
      "Epoch [2000/10000], Loss: 0.0236\n",
      "Epoch [2100/10000], Loss: 0.0224\n",
      "Epoch [2200/10000], Loss: 0.0214\n",
      "Epoch [2300/10000], Loss: 0.0205\n",
      "Epoch [2400/10000], Loss: 0.0196\n",
      "Epoch [2500/10000], Loss: 0.0188\n",
      "Epoch [2600/10000], Loss: 0.0181\n",
      "Epoch [2700/10000], Loss: 0.0174\n",
      "Epoch [2800/10000], Loss: 0.0168\n",
      "Epoch [2900/10000], Loss: 0.0162\n",
      "Epoch [3000/10000], Loss: 0.0156\n",
      "Epoch [3100/10000], Loss: 0.0151\n",
      "Epoch [3200/10000], Loss: 0.0146\n",
      "Epoch [3300/10000], Loss: 0.0142\n",
      "Epoch [3400/10000], Loss: 0.0138\n",
      "Epoch [3500/10000], Loss: 0.0134\n",
      "Epoch [3600/10000], Loss: 0.0130\n",
      "Epoch [3700/10000], Loss: 0.0126\n",
      "Epoch [3800/10000], Loss: 0.0123\n",
      "Epoch [3900/10000], Loss: 0.0120\n",
      "Epoch [4000/10000], Loss: 0.0117\n",
      "Epoch [4100/10000], Loss: 0.0114\n",
      "Epoch [4200/10000], Loss: 0.0111\n",
      "Epoch [4300/10000], Loss: 0.0108\n",
      "Epoch [4400/10000], Loss: 0.0106\n",
      "Epoch [4500/10000], Loss: 0.0103\n",
      "Epoch [4600/10000], Loss: 0.0101\n",
      "Epoch [4700/10000], Loss: 0.0099\n",
      "Epoch [4800/10000], Loss: 0.0097\n",
      "Epoch [4900/10000], Loss: 0.0095\n",
      "Epoch [5000/10000], Loss: 0.0093\n",
      "Epoch [5100/10000], Loss: 0.0091\n",
      "Epoch [5200/10000], Loss: 0.0089\n",
      "Epoch [5300/10000], Loss: 0.0088\n",
      "Epoch [5400/10000], Loss: 0.0086\n",
      "Epoch [5500/10000], Loss: 0.0084\n",
      "Epoch [5600/10000], Loss: 0.0083\n",
      "Epoch [5700/10000], Loss: 0.0081\n",
      "Epoch [5800/10000], Loss: 0.0080\n",
      "Epoch [5900/10000], Loss: 0.0079\n",
      "Epoch [6000/10000], Loss: 0.0077\n",
      "Epoch [6100/10000], Loss: 0.0076\n",
      "Epoch [6200/10000], Loss: 0.0075\n",
      "Epoch [6300/10000], Loss: 0.0073\n",
      "Epoch [6400/10000], Loss: 0.0072\n",
      "Epoch [6500/10000], Loss: 0.0071\n",
      "Epoch [6600/10000], Loss: 0.0070\n",
      "Epoch [6700/10000], Loss: 0.0069\n",
      "Epoch [6800/10000], Loss: 0.0068\n",
      "Epoch [6900/10000], Loss: 0.0067\n",
      "Epoch [7000/10000], Loss: 0.0066\n",
      "Epoch [7100/10000], Loss: 0.0065\n",
      "Epoch [7200/10000], Loss: 0.0064\n",
      "Epoch [7300/10000], Loss: 0.0063\n",
      "Epoch [7400/10000], Loss: 0.0062\n",
      "Epoch [7500/10000], Loss: 0.0062\n",
      "Epoch [7600/10000], Loss: 0.0061\n",
      "Epoch [7700/10000], Loss: 0.0060\n",
      "Epoch [7800/10000], Loss: 0.0059\n",
      "Epoch [7900/10000], Loss: 0.0058\n",
      "Epoch [8000/10000], Loss: 0.0058\n",
      "Epoch [8100/10000], Loss: 0.0057\n",
      "Epoch [8200/10000], Loss: 0.0056\n",
      "Epoch [8300/10000], Loss: 0.0056\n",
      "Epoch [8400/10000], Loss: 0.0055\n",
      "Epoch [8500/10000], Loss: 0.0054\n",
      "Epoch [8600/10000], Loss: 0.0054\n",
      "Epoch [8700/10000], Loss: 0.0053\n",
      "Epoch [8800/10000], Loss: 0.0052\n",
      "Epoch [8900/10000], Loss: 0.0052\n",
      "Epoch [9000/10000], Loss: 0.0051\n",
      "Epoch [9100/10000], Loss: 0.0051\n",
      "Epoch [9200/10000], Loss: 0.0050\n",
      "Epoch [9300/10000], Loss: 0.0049\n",
      "Epoch [9400/10000], Loss: 0.0049\n",
      "Epoch [9500/10000], Loss: 0.0048\n",
      "Epoch [9600/10000], Loss: 0.0048\n",
      "Epoch [9700/10000], Loss: 0.0047\n",
      "Epoch [9800/10000], Loss: 0.0047\n",
      "Epoch [9900/10000], Loss: 0.0046\n",
      "Epoch [10000/10000], Loss: 0.0046\n",
      "Accuracy: 1.0\n"
     ]
    }
   ],
   "source": [
    "import torch\n",
    "import torch.nn as nn\n",
    "import torch.optim as optim\n",
    "\n",
    "\n",
    "X_train = torch.tensor([[0,0],[0,1],[1,0],[1,1]], dtype=torch.float32)\n",
    "y_train = torch.tensor([[0],[1],[1],[1]], dtype=torch.float32)\n",
    "\n",
    "\n",
    "class ORPerceptron(nn.Module):\n",
    "    def __init__(self):\n",
    "        super(ORPerceptron, self).__init__()\n",
    "        self.fc = nn.Linear(2, 1)\n",
    "\n",
    "    def forward(self, x):\n",
    "        x = self.fc(x)\n",
    "        return x\n",
    "\n",
    "\n",
    "criterion = nn.BCEWithLogitsLoss()\n",
    "model = ORPerceptron()\n",
    "\n",
    "\n",
    "learning_rate = 0.2\n",
    "optimizer = optim.SGD(model.parameters(), lr=learning_rate)\n",
    "\n",
    "# Train the Perceptron model\n",
    "num_epochs = 10000\n",
    "for epoch in range(num_epochs):\n",
    "    optimizer.zero_grad()\n",
    "    outputs = model(X_train)\n",
    "    loss = criterion(outputs, y_train)\n",
    "    loss.backward()\n",
    "    optimizer.step()\n",
    "    if (epoch + 1) % 100 == 0:\n",
    "        print(f'Epoch [{epoch+1}/{num_epochs}], Loss: {loss.item():.4f}')\n",
    "\n",
    "# Evaluate the trained model and compute the accuracy\n",
    "with torch.no_grad():\n",
    "    predictions = torch.sigmoid(model(X_train))\n",
    "    predicted_classes = torch.round(predictions)\n",
    "    accuracy = torch.mean((predicted_classes == y_train).float())\n",
    "    print(f\"Accuracy: {accuracy.item()}\")"
   ]
  },
  {
   "cell_type": "code",
   "execution_count": null,
   "id": "6bde3f2d",
   "metadata": {},
   "outputs": [],
   "source": []
  },
  {
   "cell_type": "code",
   "execution_count": null,
   "id": "a24ac785",
   "metadata": {},
   "outputs": [],
   "source": []
  }
 ],
 "metadata": {
  "kernelspec": {
   "display_name": "Python 3 (ipykernel)",
   "language": "python",
   "name": "python3"
  },
  "language_info": {
   "codemirror_mode": {
    "name": "ipython",
    "version": 3
   },
   "file_extension": ".py",
   "mimetype": "text/x-python",
   "name": "python",
   "nbconvert_exporter": "python",
   "pygments_lexer": "ipython3",
   "version": "3.9.16"
  }
 },
 "nbformat": 4,
 "nbformat_minor": 5
}
