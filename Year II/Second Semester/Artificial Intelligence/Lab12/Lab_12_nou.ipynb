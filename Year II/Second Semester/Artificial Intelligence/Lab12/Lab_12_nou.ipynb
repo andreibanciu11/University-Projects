{
 "cells": [
  {
   "cell_type": "markdown",
   "metadata": {},
   "source": [
    "## Lab. 12\n",
    "\n",
    "### Solve the following problem using Genetic Algorithms:\n",
    "\n",
    "\n",
    "Problem: Weighted N-Queen Problem\n",
    "\n",
    "\n",
    "You are given an N×N chessboard, and each cell of the board has an associated weight. Your task is to find a valid placement of N queens such that the total weight of the queens is maximized, and no two queens threaten each other.\n",
    "\n"
   ]
  },
  {
   "cell_type": "markdown",
   "metadata": {},
   "source": [
    "\n",
    "\n",
    "In the traditional N-Queen Problem, the goal is to place N queens on an N×N chessboard in such a way that no two queens threaten each other. In this variation, we introduce weights to the queens and aim to find a placement that maximizes the total weight of the queens while satisfying the constraint of non-threatening positions.\n",
    "\n",
    "\n",
    "Constraints:\n",
    "\n",
    "1. There should be exactly one queen in each row and each column.\n",
    "2. No two queens should be placed in the same diagonal, i.e., they should not threaten each other.\n",
    "3. The placement should maximize the total weight of the queens.\n",
    "\n",
    "\n",
    "Representation:\n",
    "\n",
    "Use a permutation-based representation. Each permutation represents the column position of the queen for each row. \n",
    "\n",
    "For example, if N=4, a valid permutation [2, 4, 1, 3] indicates that the queen in the first row is placed in column 2, the queen in the second row is placed in column 4, and so on.\n",
    "\n",
    "\n",
    "Genetic Algorithm Steps:\n",
    "\n",
    "1. *Initialization*: Generate an initial population of permutations randomly.\n",
    "\n",
    "2. *Fitness Evaluation*: Evaluate the fitness of each permutation by calculating the total weight of the queens while considering the non-threatening positions.\n",
    "\n",
    "3. *Selection*: Select a subset of permutations from the population based on their fitness, using selection techniques like tournament selection or roulette wheel selection.\n",
    "\n",
    "4. *Crossover*: Perform crossover (recombination) on the selected permutations to create new offspring permutations.\n",
    "\n",
    "5. *Mutation*: Introduce random changes (mutations) in the offspring permutations to maintain diversity in the population.\n",
    "\n",
    "6. *Fitness Evaluation for the new individuals*: Evaluate the fitness of the new population.\n",
    "\n",
    "7. *Form the new population*: Select the surviving individuals based on scores, with chances direct proportional with their performance.\n",
    "\n",
    "8. Repeat steps 3-7 for a certain number of generations or until a termination condition is met (e.g., a maximum number of iterations or a satisfactory solution is found).\n",
    "\n",
    "\n",
    "9. *Termination*: Return the best-performing individual (permutation) found as the solution to the problem.\n",
    "\n",
    "Note: The fitness function used in this problem should calculate the total weight of the queens based on the positions specified by the permutation. Additionally, the fitness function should penalize solutions that violate the non-threatening constraint by assigning a lower fitness score to such permutations."
   ]
  },
  {
   "cell_type": "code",
   "execution_count": 100,
   "metadata": {},
   "outputs": [
    {
     "name": "stdout",
     "output_type": "stream",
     "text": [
      "[[1, 4, 2, 3], [3, 2, 4, 1], [4, 2, 3, 1], [2, 4, 3, 1], [1, 3, 2, 4], [4, 1, 3, 2], [3, 1, 2, 4], [2, 4, 1, 3], [4, 1, 2, 3], [4, 2, 1, 3]]\n"
     ]
    }
   ],
   "source": [
    "import random\n",
    "\n",
    "# Generate initial population\n",
    "def generate_initial_population(size, n):\n",
    "    population = []\n",
    "    while len(population) < size:\n",
    "        permutation = random.sample(range(1, n+1), n)\n",
    "        if permutation not in population:\n",
    "            population.append(permutation)\n",
    "    return population\n",
    "\n",
    "size = 10\n",
    "n = 4\n",
    "population = generate_initial_population(size, n)\n",
    "print(population)"
   ]
  },
  {
   "cell_type": "code",
   "execution_count": 103,
   "metadata": {},
   "outputs": [
    {
     "name": "stdout",
     "output_type": "stream",
     "text": [
      "[[6, 14, 0, 0, 6, 8, 12, 12, 0, 1], [4, 4, 3, 4, 7, 7, 0, 3, 4, 4], [12, 16, 0, 0, 9, 2, 3, 3, 3, 11], [13, 13, 4, 0, 0, 0, 12, 1, 3, 3]]\n"
     ]
    }
   ],
   "source": [
    "#Evaluate fitness\n",
    "def evaluate_fitness(population, weights):\n",
    "    fitness_scores = []\n",
    "    for individual in population:\n",
    "        n = len(individual)\n",
    "        total_weight = 0\n",
    "        non_threatening = True\n",
    "        for i in range(n):\n",
    "            for j in range(i+1, n):\n",
    "                if abs(i - j) == abs(individual[i] - individual[j]):\n",
    "                    total_weight = 0\n",
    "                else:\n",
    "                    total_weight += weights[individual[i]-1]\n",
    "            fitness_scores.append(total_weight)\n",
    "    return [fitness_scores[i:i+len(population)] for i in range(0, len(fitness_scores), len(population))]\n",
    "\n",
    "weights = [2, 1, 3, 4]\n",
    "fitness = evaluate_fitness(population, weights)\n",
    "print(fitness)"
   ]
  },
  {
   "cell_type": "code",
   "execution_count": 128,
   "metadata": {},
   "outputs": [
    {
     "name": "stdout",
     "output_type": "stream",
     "text": [
      "[[4, 3, 1, 2], [4, 1, 2, 3]]\n"
     ]
    }
   ],
   "source": [
    "from random import sample\n",
    "\n",
    "#Tournament selection\n",
    "def selection(population, fitness_scores, tournament_size):\n",
    "    selected = []\n",
    "    for _ in range(len(population)):\n",
    "        tournament = sample(population, tournament_size)\n",
    "        tournament_fitness_scores = [fitness_scores[tournament.index(permutation)] for permutation in tournament]\n",
    "        max_fitness = max(tournament_fitness_scores)\n",
    "        max_index = tournament_fitness_scores.index(max_fitness)\n",
    "        selected.append(tournament[max_index])\n",
    "        \n",
    "    selected = list(set(tuple(permutation) for permutation in selected))\n",
    "    selected = [list(permutation) for permutation in selected]\n",
    "    return selected\n",
    "\n",
    "tournament_size = 2\n",
    "selected = selection(population, fitness, tournament_size)\n",
    "print(selected)"
   ]
  },
  {
   "cell_type": "code",
   "execution_count": 129,
   "metadata": {},
   "outputs": [
    {
     "name": "stdout",
     "output_type": "stream",
     "text": [
      "[[4, 2, 1, 2], [4, 2, 2, 3]]\n"
     ]
    }
   ],
   "source": [
    "from random import random, randint, uniform\n",
    "\n",
    "#Crossover\n",
    "def crossover(parents, crossover_rate):\n",
    "    offspring = []\n",
    "    for i in range(0, len(parents), 2):\n",
    "        parent1 = parents[i]\n",
    "        parent2 = parents[i+1]\n",
    "        if random() < crossover_rate:\n",
    "            n = len(parent1)\n",
    "            alpha = uniform(0, 1)\n",
    "            child1 = [(alpha * parent1[i] + (1 - alpha) * parent2[i]) for i in range(n)]\n",
    "            child2 = [(alpha * parent2[i] + (1 - alpha) * parent1[i]) for i in range(n)]\n",
    "            child1 = [int(round(value)) for value in child1]\n",
    "            child2 = [int(round(value)) for value in child2]\n",
    "            child1 = [min(max(value, 1), 4) for value in child1]\n",
    "            child2 = [min(max(value, 1), 4) for value in child2]\n",
    "            offspring.extend([child1, child2])\n",
    "        else:\n",
    "            offspring.extend([parent1, parent2])\n",
    "    return offspring\n",
    "\n",
    "crossover_rate = 0.8\n",
    "offspring = crossover(selected, crossover_rate)\n",
    "print(offspring)"
   ]
  },
  {
   "cell_type": "code",
   "execution_count": 130,
   "metadata": {},
   "outputs": [
    {
     "name": "stdout",
     "output_type": "stream",
     "text": [
      "[[4, 2, 1, 2], [4, 2, 2, 3]]\n"
     ]
    }
   ],
   "source": [
    "from random import random, sample\n",
    "\n",
    "#Mutation\n",
    "def mutation(offspring, mutation_rate):\n",
    "    mutated_offspring = []\n",
    "    for permutation in offspring:\n",
    "        if random() < mutation_rate:\n",
    "            index1, index2 = sample(range(len(permutation)), 2)\n",
    "            permutation[index1] = min(max(permutation[index1], 1), 4)\n",
    "            permutation[index2] = min(max(permutation[index2], 1), 4)\n",
    "        mutated_offspring.append(permutation)\n",
    "    return mutated_offspring\n",
    "\n",
    "mutation_rate = 0.1\n",
    "mutated_offspring = mutation(offspring, mutation_rate)\n",
    "print(mutated_offspring)"
   ]
  },
  {
   "cell_type": "code",
   "execution_count": 131,
   "metadata": {},
   "outputs": [
    {
     "name": "stdout",
     "output_type": "stream",
     "text": [
      "[[12, 1], [0, 0], [4, 6], [0, 0]]\n"
     ]
    }
   ],
   "source": [
    "#Evaluate fitness of new population\n",
    "new_fitness_score = evaluate_fitness(mutated_offspring, weights)\n",
    "print(new_fitness_score)"
   ]
  },
  {
   "cell_type": "code",
   "execution_count": 132,
   "metadata": {},
   "outputs": [
    {
     "name": "stdout",
     "output_type": "stream",
     "text": [
      "[4, 2, 1, 2]\n",
      "12\n"
     ]
    }
   ],
   "source": [
    "#Find best individual\n",
    "def find_best_individual(population, weights):\n",
    "    fitness_scores = evaluate_fitness(population, weights)\n",
    "    best_index = 0\n",
    "    max_fitness = max(max(scores) for scores in fitness_scores)\n",
    "    for i in range(len(population)):\n",
    "        if max(fitness_scores[i]) == max_fitness:\n",
    "            best_index = i\n",
    "            break\n",
    "    return population[best_index], max_fitness\n",
    "\n",
    "population = mutated_offspring\n",
    "best_individual, best_fitness = find_best_individual(population, weights)\n",
    "print(best_individual)\n",
    "print(best_fitness)"
   ]
  },
  {
   "cell_type": "code",
   "execution_count": null,
   "metadata": {},
   "outputs": [],
   "source": []
  }
 ],
 "metadata": {
  "kernel_info": {
   "name": "python"
  },
  "kernelspec": {
   "display_name": "Python 3 (ipykernel)",
   "language": "python",
   "name": "python3"
  },
  "language_info": {
   "codemirror_mode": {
    "name": "ipython",
    "version": 3
   },
   "file_extension": ".py",
   "mimetype": "text/x-python",
   "name": "python",
   "nbconvert_exporter": "python",
   "pygments_lexer": "ipython3",
   "version": "3.9.16"
  },
  "nteract": {
   "version": "nteract-front-end@1.0.0"
  }
 },
 "nbformat": 4,
 "nbformat_minor": 2
}
